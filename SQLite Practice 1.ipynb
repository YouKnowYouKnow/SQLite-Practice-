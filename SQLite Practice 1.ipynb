{
 "cells": [
  {
   "cell_type": "markdown",
   "id": "4f6b3fe8",
   "metadata": {},
   "source": [
    "\n",
    "**SQLITE PRACTICE 1**\n",
    "\n",
    "steps performed:\n",
    "1. Created a table in My_data base.\n",
    "2. Drop already existing table with same name \n",
    "3. Fill values in table \n",
    "4. import table as a dataframe using pandas\n",
    "5. close connections "
   ]
  },
  {
   "cell_type": "code",
   "execution_count": 3,
   "id": "eac7ab0b",
   "metadata": {},
   "outputs": [],
   "source": [
    "import sqlite3 as db \n",
    "import pandas as pd \n"
   ]
  },
  {
   "cell_type": "code",
   "execution_count": 37,
   "id": "ff5346b9",
   "metadata": {},
   "outputs": [],
   "source": [
    "con= db.connect(\"MY_DATABASE\")\n",
    "cur=con.cursor()"
   ]
  },
  {
   "cell_type": "code",
   "execution_count": 7,
   "id": "412462d8",
   "metadata": {},
   "outputs": [
    {
     "ename": "OperationalError",
     "evalue": "table Snakes already exists",
     "output_type": "error",
     "traceback": [
      "\u001b[0;31m---------------------------------------------------------------------------\u001b[0m",
      "\u001b[0;31mOperationalError\u001b[0m                          Traceback (most recent call last)",
      "\u001b[0;32m<ipython-input-7-9e921d494a45>\u001b[0m in \u001b[0;36m<module>\u001b[0;34m\u001b[0m\n\u001b[0;32m----> 1\u001b[0;31m \u001b[0mcur\u001b[0m\u001b[0;34m.\u001b[0m\u001b[0mexecute\u001b[0m\u001b[0;34m(\u001b[0m\u001b[0;34m\"CREATE TABLE Snakes (ID INTIGER PRIMARY KEY, Species VARCHAR(20), Venomous BIT)\"\u001b[0m\u001b[0;34m)\u001b[0m\u001b[0;34m\u001b[0m\u001b[0;34m\u001b[0m\u001b[0m\n\u001b[0m\u001b[1;32m      2\u001b[0m \u001b[0mcon\u001b[0m\u001b[0;34m.\u001b[0m\u001b[0mcommit\u001b[0m\u001b[0;34m(\u001b[0m\u001b[0;34m)\u001b[0m\u001b[0;34m\u001b[0m\u001b[0;34m\u001b[0m\u001b[0m\n",
      "\u001b[0;31mOperationalError\u001b[0m: table Snakes already exists"
     ]
    }
   ],
   "source": [
    "cur.execute(\"CREATE TABLE Snakes (ID INTIGER PRIMARY KEY, Species VARCHAR(20), Venomous BIT)\")\n",
    "con.commit()"
   ]
  },
  {
   "cell_type": "code",
   "execution_count": 8,
   "id": "8123c3c6",
   "metadata": {},
   "outputs": [
    {
     "data": {
      "text/plain": [
       "<sqlite3.Cursor at 0x7fa6d24feb20>"
      ]
     },
     "execution_count": 8,
     "metadata": {},
     "output_type": "execute_result"
    }
   ],
   "source": [
    "cur.execute(\"drop table if exists Snakes\")"
   ]
  },
  {
   "cell_type": "code",
   "execution_count": 9,
   "id": "1c551d0c",
   "metadata": {},
   "outputs": [],
   "source": [
    "con.commit()"
   ]
  },
  {
   "cell_type": "code",
   "execution_count": 12,
   "id": "1a5ed70a",
   "metadata": {},
   "outputs": [],
   "source": [
    "cur.execute(\"CREATE TABLE Snakes (ID INTIGER PRIMARY KEY, Species VARCHAR(20), Venomous BIT)\")\n",
    "con.commit()"
   ]
  },
  {
   "cell_type": "code",
   "execution_count": 17,
   "id": "0682ef8b",
   "metadata": {},
   "outputs": [
    {
     "name": "stdout",
     "output_type": "stream",
     "text": [
      "[('Snakes',)]\n"
     ]
    }
   ],
   "source": [
    "cur.execute('SELECT name from sqlite_master where type= \"table\"' )\n",
    "print(cur.fetchall())"
   ]
  },
  {
   "cell_type": "code",
   "execution_count": 18,
   "id": "065deadf",
   "metadata": {},
   "outputs": [],
   "source": [
    "new_snakes= [(1, \"Spectacled Cobra\", 1), (2, \"Rat Snake\", 0), (3 , \"Indian Rock Python\", 0), (4, \"Saw Scaled Viper\", 1), (5, \"Russele's Viper\", 1), (6, \"Chequred Keelback\", 0)]"
   ]
  },
  {
   "cell_type": "code",
   "execution_count": 19,
   "id": "7050e4b8",
   "metadata": {},
   "outputs": [
    {
     "data": {
      "text/plain": [
       "<sqlite3.Cursor at 0x7fa6d166dce0>"
      ]
     },
     "execution_count": 19,
     "metadata": {},
     "output_type": "execute_result"
    }
   ],
   "source": [
    "con.executemany(\"INSERT into Snakes VALUES (?,?,?)\", new_snakes)"
   ]
  },
  {
   "cell_type": "code",
   "execution_count": 20,
   "id": "3af0701a",
   "metadata": {},
   "outputs": [],
   "source": [
    "con.commit()"
   ]
  },
  {
   "cell_type": "code",
   "execution_count": 27,
   "id": "baa9d68d",
   "metadata": {},
   "outputs": [
    {
     "name": "stdout",
     "output_type": "stream",
     "text": [
      "[(1, 'Spectacled Cobra', 1), (2, 'Rat Snake', 0), (3, 'Indian Rock Python', 0), (4, 'Saw Scaled Viper', 1), (5, \"Russele's Viper\", 1), (6, 'Chequred Keelback', 0)]\n"
     ]
    }
   ],
   "source": [
    "cur.execute(\"SELECT * from Snakes; \")\n",
    "print (cur.fetchall())"
   ]
  },
  {
   "cell_type": "code",
   "execution_count": 31,
   "id": "31b1b4a6",
   "metadata": {},
   "outputs": [],
   "source": [
    "cur.execute(\"SELECT * from Snakes;\")\n",
    "snakes_info= (cur.fetchall())"
   ]
  },
  {
   "cell_type": "code",
   "execution_count": 32,
   "id": "a9e15813",
   "metadata": {},
   "outputs": [
    {
     "data": {
      "text/plain": [
       "[(1, 'Spectacled Cobra', 1),\n",
       " (2, 'Rat Snake', 0),\n",
       " (3, 'Indian Rock Python', 0),\n",
       " (4, 'Saw Scaled Viper', 1),\n",
       " (5, \"Russele's Viper\", 1),\n",
       " (6, 'Chequred Keelback', 0)]"
      ]
     },
     "execution_count": 32,
     "metadata": {},
     "output_type": "execute_result"
    }
   ],
   "source": [
    "snakes_info"
   ]
  },
  {
   "cell_type": "code",
   "execution_count": 35,
   "id": "145137ec",
   "metadata": {},
   "outputs": [
    {
     "data": {
      "text/html": [
       "<div>\n",
       "<style scoped>\n",
       "    .dataframe tbody tr th:only-of-type {\n",
       "        vertical-align: middle;\n",
       "    }\n",
       "\n",
       "    .dataframe tbody tr th {\n",
       "        vertical-align: top;\n",
       "    }\n",
       "\n",
       "    .dataframe thead th {\n",
       "        text-align: right;\n",
       "    }\n",
       "</style>\n",
       "<table border=\"1\" class=\"dataframe\">\n",
       "  <thead>\n",
       "    <tr style=\"text-align: right;\">\n",
       "      <th></th>\n",
       "      <th>ID</th>\n",
       "      <th>Species</th>\n",
       "      <th>Venomous</th>\n",
       "    </tr>\n",
       "  </thead>\n",
       "  <tbody>\n",
       "    <tr>\n",
       "      <th>0</th>\n",
       "      <td>1</td>\n",
       "      <td>Spectacled Cobra</td>\n",
       "      <td>1</td>\n",
       "    </tr>\n",
       "    <tr>\n",
       "      <th>1</th>\n",
       "      <td>2</td>\n",
       "      <td>Rat Snake</td>\n",
       "      <td>0</td>\n",
       "    </tr>\n",
       "    <tr>\n",
       "      <th>2</th>\n",
       "      <td>3</td>\n",
       "      <td>Indian Rock Python</td>\n",
       "      <td>0</td>\n",
       "    </tr>\n",
       "    <tr>\n",
       "      <th>3</th>\n",
       "      <td>4</td>\n",
       "      <td>Saw Scaled Viper</td>\n",
       "      <td>1</td>\n",
       "    </tr>\n",
       "    <tr>\n",
       "      <th>4</th>\n",
       "      <td>5</td>\n",
       "      <td>Russele's Viper</td>\n",
       "      <td>1</td>\n",
       "    </tr>\n",
       "    <tr>\n",
       "      <th>5</th>\n",
       "      <td>6</td>\n",
       "      <td>Chequred Keelback</td>\n",
       "      <td>0</td>\n",
       "    </tr>\n",
       "  </tbody>\n",
       "</table>\n",
       "</div>"
      ],
      "text/plain": [
       "   ID             Species  Venomous\n",
       "0   1    Spectacled Cobra         1\n",
       "1   2           Rat Snake         0\n",
       "2   3  Indian Rock Python         0\n",
       "3   4    Saw Scaled Viper         1\n",
       "4   5     Russele's Viper         1\n",
       "5   6   Chequred Keelback         0"
      ]
     },
     "execution_count": 35,
     "metadata": {},
     "output_type": "execute_result"
    }
   ],
   "source": [
    "pd.read_sql_query(\"select * from Snakes\", con)"
   ]
  },
  {
   "cell_type": "code",
   "execution_count": 38,
   "id": "abb06685",
   "metadata": {},
   "outputs": [],
   "source": [
    "cur.close()\n",
    "con.close()\n"
   ]
  },
  {
   "cell_type": "code",
   "execution_count": null,
   "id": "c470fb0b",
   "metadata": {},
   "outputs": [],
   "source": []
  }
 ],
 "metadata": {
  "kernelspec": {
   "display_name": "Python 3 (ipykernel)",
   "language": "python",
   "name": "python3"
  },
  "language_info": {
   "codemirror_mode": {
    "name": "ipython",
    "version": 3
   },
   "file_extension": ".py",
   "mimetype": "text/x-python",
   "name": "python",
   "nbconvert_exporter": "python",
   "pygments_lexer": "ipython3",
   "version": "3.7.11"
  }
 },
 "nbformat": 4,
 "nbformat_minor": 5
}
