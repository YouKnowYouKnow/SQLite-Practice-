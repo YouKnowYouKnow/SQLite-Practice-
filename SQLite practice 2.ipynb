{
 "cells": [
  {
   "cell_type": "markdown",
   "id": "cc649c04",
   "metadata": {},
   "source": [
    "**SQLite Practice 2**\n",
    "\n",
    "\n",
    "Steps Performed:\n",
    "1) Checked data base for tables present. \n",
    "2) Connected to snakes.\n",
    "3) Inserted a row of data to table. \n",
    "4) Inserted 2 new rows of data using executemany. \n",
    "5) Made updates to table (execute many).\n",
    "6) Opened as Dataframe and added a column.\n",
    "7) Saved as table in sqlite database replacing old table. \n",
    "8) Verified if changes were made."
   ]
  },
  {
   "cell_type": "code",
   "execution_count": 1,
   "id": "f85ef41c",
   "metadata": {},
   "outputs": [],
   "source": [
    "import sqlite3 as db \n",
    "import pandas as pd "
   ]
  },
  {
   "cell_type": "code",
   "execution_count": 2,
   "id": "553c35bb",
   "metadata": {},
   "outputs": [],
   "source": [
    "con= db.connect(\"MY_DATABASE\")\n",
    "cur= con.cursor()"
   ]
  },
  {
   "cell_type": "code",
   "execution_count": 3,
   "id": "10a4cd53",
   "metadata": {},
   "outputs": [
    {
     "name": "stdout",
     "output_type": "stream",
     "text": [
      "[('Snakes',)]\n"
     ]
    }
   ],
   "source": [
    "cur.execute(\"SELECT name from sqlite_master WHERE type ='table';\" )\n",
    "print(cur.fetchall())"
   ]
  },
  {
   "cell_type": "code",
   "execution_count": 4,
   "id": "1f712fca",
   "metadata": {},
   "outputs": [
    {
     "name": "stdout",
     "output_type": "stream",
     "text": [
      "[(1, 'Spectacled Cobra', 1), (2, 'Rat Snake', 0), (3, 'Indian Rock Python', 0), (4, 'Saw Scaled Viper', 1), (5, \"Russele's Viper\", 1), (6, 'Chequred Keelback', 0)]\n"
     ]
    }
   ],
   "source": [
    "cur.execute(\"SELECT * FROM Snakes\")\n",
    "print(cur.fetchall())"
   ]
  },
  {
   "cell_type": "code",
   "execution_count": 6,
   "id": "c6da2321",
   "metadata": {},
   "outputs": [],
   "source": [
    "cur.execute(\"INSERT into Snakes VALUES(7, 'Common Krait', 1)\")\n",
    "con.commit()"
   ]
  },
  {
   "cell_type": "code",
   "execution_count": 7,
   "id": "3ab0768f",
   "metadata": {},
   "outputs": [
    {
     "name": "stdout",
     "output_type": "stream",
     "text": [
      "[(1,), (2,), (3,), (4,), (5,), (6,), (7,)]\n"
     ]
    }
   ],
   "source": [
    "#Checking if new data's ID is inserted\n",
    "cur.execute(\"SELECT ID FROM Snakes\")\n",
    "print (cur.fetchall())\n"
   ]
  },
  {
   "cell_type": "code",
   "execution_count": 8,
   "id": "2c67e17e",
   "metadata": {},
   "outputs": [],
   "source": [
    "# Inserting two new snakes:\n",
    "new_snakes = [(9, \"Green Vine Snake\", 0), (10, \"Trinket Snake\", 1)]"
   ]
  },
  {
   "cell_type": "code",
   "execution_count": 11,
   "id": "82fb4c9a",
   "metadata": {},
   "outputs": [
    {
     "data": {
      "text/plain": [
       "<sqlite3.Cursor at 0x7fb548016c70>"
      ]
     },
     "execution_count": 11,
     "metadata": {},
     "output_type": "execute_result"
    }
   ],
   "source": [
    "cur.executemany(\"INSERT into Snakes Values(?,?,?)\", new_snakes)"
   ]
  },
  {
   "cell_type": "code",
   "execution_count": 12,
   "id": "9032f287",
   "metadata": {},
   "outputs": [],
   "source": [
    "con.commit()"
   ]
  },
  {
   "cell_type": "code",
   "execution_count": 14,
   "id": "c181a02a",
   "metadata": {},
   "outputs": [
    {
     "name": "stdout",
     "output_type": "stream",
     "text": [
      "[(1, 'Spectacled Cobra', 1), (2, 'Rat Snake', 0), (3, 'Indian Rock Python', 0), (4, 'Saw Scaled Viper', 1), (5, \"Russele's Viper\", 1), (6, 'Chequred Keelback', 0), (7, 'Common Krait', 1), (9, 'Green Vine Snake', 0), (10, 'Trinket Snake', 1)]\n"
     ]
    }
   ],
   "source": [
    "#Verifying if data was added \n",
    "cur.execute(\"SELECT * from Snakes\")\n",
    "print(cur.fetchall())"
   ]
  },
  {
   "cell_type": "code",
   "execution_count": 16,
   "id": "8eeaf145",
   "metadata": {},
   "outputs": [],
   "source": [
    "#replacing ID of last two rows in table.\n",
    "IDerrors= [(8, \"Green Vine Snake\"), (9, \"Trinket Snake\")]\n",
    "cur.executemany(\"UPDATE Snakes SET ID= ? where Species= ?\", IDerrors)\n",
    "con.commit()"
   ]
  },
  {
   "cell_type": "code",
   "execution_count": 18,
   "id": "a0939e1d",
   "metadata": {},
   "outputs": [
    {
     "name": "stdout",
     "output_type": "stream",
     "text": [
      "[(1,), (2,), (3,), (4,), (5,), (6,), (7,), (8,), (9,)]\n"
     ]
    }
   ],
   "source": [
    "cur.execute(\"SELECT ID FROM Snakes\")\n",
    "print(cur.fetchall())"
   ]
  },
  {
   "cell_type": "code",
   "execution_count": 20,
   "id": "46b8f80e",
   "metadata": {},
   "outputs": [],
   "source": [
    "# Changing Trinket Snake to non venomous:\n",
    "cur.execute(\"UPDATE Snakes SET Venomous= 0 WHERE ID=9\")\n",
    "con.commit()"
   ]
  },
  {
   "cell_type": "code",
   "execution_count": 22,
   "id": "70617fa4",
   "metadata": {},
   "outputs": [],
   "source": [
    "snakesdf=pd.read_sql_query(\"select * from Snakes\", con)"
   ]
  },
  {
   "cell_type": "code",
   "execution_count": 23,
   "id": "1be8cf9e",
   "metadata": {},
   "outputs": [
    {
     "data": {
      "text/html": [
       "<div>\n",
       "<style scoped>\n",
       "    .dataframe tbody tr th:only-of-type {\n",
       "        vertical-align: middle;\n",
       "    }\n",
       "\n",
       "    .dataframe tbody tr th {\n",
       "        vertical-align: top;\n",
       "    }\n",
       "\n",
       "    .dataframe thead th {\n",
       "        text-align: right;\n",
       "    }\n",
       "</style>\n",
       "<table border=\"1\" class=\"dataframe\">\n",
       "  <thead>\n",
       "    <tr style=\"text-align: right;\">\n",
       "      <th></th>\n",
       "      <th>ID</th>\n",
       "      <th>Species</th>\n",
       "      <th>Venomous</th>\n",
       "    </tr>\n",
       "  </thead>\n",
       "  <tbody>\n",
       "    <tr>\n",
       "      <th>0</th>\n",
       "      <td>1</td>\n",
       "      <td>Spectacled Cobra</td>\n",
       "      <td>1</td>\n",
       "    </tr>\n",
       "    <tr>\n",
       "      <th>1</th>\n",
       "      <td>2</td>\n",
       "      <td>Rat Snake</td>\n",
       "      <td>0</td>\n",
       "    </tr>\n",
       "    <tr>\n",
       "      <th>2</th>\n",
       "      <td>3</td>\n",
       "      <td>Indian Rock Python</td>\n",
       "      <td>0</td>\n",
       "    </tr>\n",
       "    <tr>\n",
       "      <th>3</th>\n",
       "      <td>4</td>\n",
       "      <td>Saw Scaled Viper</td>\n",
       "      <td>1</td>\n",
       "    </tr>\n",
       "    <tr>\n",
       "      <th>4</th>\n",
       "      <td>5</td>\n",
       "      <td>Russele's Viper</td>\n",
       "      <td>1</td>\n",
       "    </tr>\n",
       "    <tr>\n",
       "      <th>5</th>\n",
       "      <td>6</td>\n",
       "      <td>Chequred Keelback</td>\n",
       "      <td>0</td>\n",
       "    </tr>\n",
       "    <tr>\n",
       "      <th>6</th>\n",
       "      <td>7</td>\n",
       "      <td>Common Krait</td>\n",
       "      <td>1</td>\n",
       "    </tr>\n",
       "    <tr>\n",
       "      <th>7</th>\n",
       "      <td>8</td>\n",
       "      <td>Green Vine Snake</td>\n",
       "      <td>0</td>\n",
       "    </tr>\n",
       "    <tr>\n",
       "      <th>8</th>\n",
       "      <td>9</td>\n",
       "      <td>Trinket Snake</td>\n",
       "      <td>0</td>\n",
       "    </tr>\n",
       "  </tbody>\n",
       "</table>\n",
       "</div>"
      ],
      "text/plain": [
       "   ID             Species  Venomous\n",
       "0   1    Spectacled Cobra         1\n",
       "1   2           Rat Snake         0\n",
       "2   3  Indian Rock Python         0\n",
       "3   4    Saw Scaled Viper         1\n",
       "4   5     Russele's Viper         1\n",
       "5   6   Chequred Keelback         0\n",
       "6   7        Common Krait         1\n",
       "7   8    Green Vine Snake         0\n",
       "8   9       Trinket Snake         0"
      ]
     },
     "execution_count": 23,
     "metadata": {},
     "output_type": "execute_result"
    }
   ],
   "source": [
    "snakesdf"
   ]
  },
  {
   "cell_type": "code",
   "execution_count": 61,
   "id": "55640ab3",
   "metadata": {},
   "outputs": [],
   "source": [
    "cur.close()\n",
    "con.close()"
   ]
  },
  {
   "cell_type": "code",
   "execution_count": 74,
   "id": "62b673f7",
   "metadata": {},
   "outputs": [],
   "source": [
    "found=[\"Yes\",\"Yes\",\"No\",\"Yes\",\"No\",\"Yes\",\"Yes\",\"Yes\",\"Yes\"]\n",
    "snakesdf[\"Found In Bangalore\"]= found"
   ]
  },
  {
   "cell_type": "code",
   "execution_count": 76,
   "id": "3a5270ea",
   "metadata": {},
   "outputs": [],
   "source": [
    "snakesdf=snakesdf.set_index(\"ID\")"
   ]
  },
  {
   "cell_type": "code",
   "execution_count": 77,
   "id": "1dc58fb7",
   "metadata": {},
   "outputs": [
    {
     "name": "stderr",
     "output_type": "stream",
     "text": [
      "/home/siddharth/anaconda3/lib/python3.7/site-packages/pandas/core/generic.py:2882: UserWarning: The spaces in these column names will not be changed. In pandas versions < 0.14, spaces were converted to underscores.\n",
      "  method=method,\n"
     ]
    }
   ],
   "source": [
    "con=db.connect(\"MY_DATABASE\")\n",
    "snakesdf.to_sql(\"Snakes\",con,if_exists=\"replace\")"
   ]
  },
  {
   "cell_type": "code",
   "execution_count": 78,
   "id": "c3bcaebd",
   "metadata": {},
   "outputs": [],
   "source": [
    "cur=con.cursor()\n",
    "con.commit()"
   ]
  },
  {
   "cell_type": "code",
   "execution_count": 79,
   "id": "76208051",
   "metadata": {},
   "outputs": [
    {
     "data": {
      "text/plain": [
       "[(1, 'Spectacled Cobra', 1, 'Yes'),\n",
       " (2, 'Rat Snake', 0, 'Yes'),\n",
       " (3, 'Indian Rock Python', 0, 'No'),\n",
       " (4, 'Saw Scaled Viper', 1, 'Yes'),\n",
       " (5, \"Russele's Viper\", 1, 'No'),\n",
       " (6, 'Chequred Keelback', 0, 'Yes'),\n",
       " (7, 'Common Krait', 1, 'Yes'),\n",
       " (8, 'Green Vine Snake', 0, 'Yes'),\n",
       " (9, 'Trinket Snake', 0, 'Yes')]"
      ]
     },
     "execution_count": 79,
     "metadata": {},
     "output_type": "execute_result"
    }
   ],
   "source": [
    "cur.execute(\"SELECT * from Snakes\")\n",
    "cur.fetchall()"
   ]
  },
  {
   "cell_type": "code",
   "execution_count": 80,
   "id": "27b7432e",
   "metadata": {},
   "outputs": [],
   "source": [
    "cur.close()\n",
    "con.close()"
   ]
  },
  {
   "cell_type": "code",
   "execution_count": null,
   "id": "281d45b9",
   "metadata": {},
   "outputs": [],
   "source": []
  }
 ],
 "metadata": {
  "kernelspec": {
   "display_name": "Python 3 (ipykernel)",
   "language": "python",
   "name": "python3"
  },
  "language_info": {
   "codemirror_mode": {
    "name": "ipython",
    "version": 3
   },
   "file_extension": ".py",
   "mimetype": "text/x-python",
   "name": "python",
   "nbconvert_exporter": "python",
   "pygments_lexer": "ipython3",
   "version": "3.7.11"
  }
 },
 "nbformat": 4,
 "nbformat_minor": 5
}
